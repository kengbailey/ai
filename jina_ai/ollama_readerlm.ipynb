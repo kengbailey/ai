{
 "cells": [
  {
   "cell_type": "code",
   "execution_count": 1,
   "metadata": {},
   "outputs": [],
   "source": [
    "# Jina AI Reader\n",
    "\n",
    "import requests\n",
    "import json \n",
    "\n",
    "def call_jina_reader(url, headers=None, respond_with=\"text\"):\n",
    "    if not url.startswith(\"https://r.jina.ai/\"):\n",
    "        url = f\"https://r.jina.ai/{url}\"\n",
    "    \n",
    "    # Set default headers if none are provided\n",
    "    default_headers = {\n",
    "        # \"x-with-generated-alt\": \"true\", # Enable image captioning\n",
    "        \"Accept\": \"application/json\",\n",
    "        \"x-respond-with\": respond_with,\n",
    "    }\n",
    "    \n",
    "    if headers:\n",
    "        default_headers.update(headers) # Add user-provided headers\n",
    "    \n",
    "    response = requests.get(url, headers=default_headers)\n",
    "    \n",
    "    # Check for successful response\n",
    "    response.raise_for_status() \n",
    "\n",
    "    data = response.text\n",
    "    \n",
    "    return json.loads(data)"
   ]
  },
  {
   "cell_type": "code",
   "execution_count": 2,
   "metadata": {},
   "outputs": [],
   "source": [
    "# Ollama Local\n",
    "\n",
    "from openai import OpenAI\n",
    "\n",
    "# Query LLM\n",
    "client = OpenAI(\n",
    "    base_url='http://localhost:11434/v1/',\n",
    "    api_key='ollama',\n",
    ")"
   ]
  },
  {
   "cell_type": "code",
   "execution_count": 2,
   "metadata": {},
   "outputs": [],
   "source": [
    "# fetch html content \n",
    "url = \"https://www.xda-developers.com/hacked-nintendo-3ds-better-than-gaming-handheld/\"\n",
    "response = call_jina_reader(url, respond_with=\"html\")\n",
    "html_content = response['data']['html']"
   ]
  },
  {
   "cell_type": "code",
   "execution_count": null,
   "metadata": {},
   "outputs": [],
   "source": [
    "print(html_content)"
   ]
  },
  {
   "cell_type": "code",
   "execution_count": 13,
   "metadata": {},
   "outputs": [],
   "source": [
    "# Query LLM w/ Ollama\n",
    "# Notes: doesn't work very well with verbose html data \n",
    "\n",
    "chat_completion = client.chat.completions.create(\n",
    "    messages=[\n",
    "        {'role': 'user', 'content': html_content, }\n",
    "    ],\n",
    "    model='reader-lm:1.5b-fp16',\n",
    "    temperature=0.1,\n",
    ")\n",
    "result_markdown = chat_completion.choices[0].message.content"
   ]
  },
  {
   "cell_type": "code",
   "execution_count": null,
   "metadata": {},
   "outputs": [],
   "source": [
    "# Query LLM w/ Hugging Face\n",
    "\n",
    "# pip install transformers\n",
    "from transformers import AutoModelForCausalLM, AutoTokenizer\n",
    "checkpoint = \"jinaai/reader-lm-1.5b\"\n",
    "\n",
    "device = \"cuda\" # for GPU usage or \"cpu\" for CPU usage\n",
    "tokenizer = AutoTokenizer.from_pretrained(checkpoint)\n",
    "model = AutoModelForCausalLM.from_pretrained(checkpoint).to(device)\n",
    "\n",
    "# example html content\n",
    "# html_content = \"<html><body><h1>Hello, world!</h1></body></html>\"\n",
    "\n",
    "messages = [{\"role\": \"user\", \"content\": html_content}]\n",
    "input_text=tokenizer.apply_chat_template(messages, tokenize=False)\n",
    "\n",
    "print(input_text)\n",
    "\n",
    "inputs = tokenizer.encode(input_text, return_tensors=\"pt\").to(device)\n",
    "outputs = model.generate(inputs, max_new_tokens=1024, temperature=0, do_sample=False, repetition_penalty=1.08)\n",
    "\n",
    "print(tokenizer.decode(outputs[0]))\n"
   ]
  },
  {
   "cell_type": "code",
   "execution_count": null,
   "metadata": {},
   "outputs": [],
   "source": [
    "print(result_markdown)"
   ]
  }
 ],
 "metadata": {
  "kernelspec": {
   "display_name": "Python 3",
   "language": "python",
   "name": "python3"
  },
  "language_info": {
   "codemirror_mode": {
    "name": "ipython",
    "version": 3
   },
   "file_extension": ".py",
   "mimetype": "text/x-python",
   "name": "python",
   "nbconvert_exporter": "python",
   "pygments_lexer": "ipython3",
   "version": "3.12.3"
  }
 },
 "nbformat": 4,
 "nbformat_minor": 2
}
