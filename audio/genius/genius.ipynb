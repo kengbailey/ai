{
 "cells": [
  {
   "cell_type": "code",
   "execution_count": null,
   "metadata": {},
   "outputs": [],
   "source": [
    "%pip install lyricsgenius"
   ]
  },
  {
   "cell_type": "code",
   "execution_count": 110,
   "metadata": {},
   "outputs": [],
   "source": [
    "import lyricsgenius\n",
    "from pprint import pprint\n",
    "\n",
    "genius = lyricsgenius.Genius('')\n",
    "\n",
    "genius.skip_non_songs = False\n",
    "genius.verbose = False\n",
    "genius.excluded_terms = [\"(Remix)\", \"(Live)\", \"Genius\"]"
   ]
  },
  {
   "cell_type": "markdown",
   "metadata": {},
   "source": [
    "## Search Albums w/ Artist"
   ]
  },
  {
   "cell_type": "code",
   "execution_count": null,
   "metadata": {},
   "outputs": [],
   "source": [
    "search_term = 'Young Thung'\n",
    "\n",
    "results = genius.search_albums(search_term=search_term)\n",
    "\n",
    "has_next_page = True\n",
    "current_page = 1\n",
    "while has_next_page:\n",
    "    print(f\"Page {current_page}\")\n",
    "    for result in results['sections'][0]['hits']:\n",
    "        print(f\"Album: {result['result']['full_title']}\\n\\tArtist: {result['result']['artist']['name']}\\n\\tID: {result['result']['id']}\")\n",
    "    \n",
    "    results = genius.search_albums(search_term, page=current_page + 1)\n",
    "    if len(results['sections'][0]['hits']) == 0:\n",
    "        has_next_page = False\n",
    "        print(\"DONE\")\n",
    "    else:\n",
    "        current_page += 1"
   ]
  },
  {
   "cell_type": "markdown",
   "metadata": {},
   "source": [
    "# Searching Artist"
   ]
  },
  {
   "cell_type": "code",
   "execution_count": null,
   "metadata": {},
   "outputs": [],
   "source": [
    "search_term = 'Kanye West'\n",
    "artist_results = genius.search_artists(search_term)\n",
    "has_next_page = True\n",
    "current_page = 1\n",
    "while has_next_page:\n",
    "    print(f\"Page {current_page}\")\n",
    "    for artist in artist_results['sections'][0]['hits']:\n",
    "        print(f\"Artist: {artist['result']['name']} ID: {artist['result']['id']}\")\n",
    "    \n",
    "    artist_results = genius.search_artists(search_term, page=current_page + 1)\n",
    "    if len(artist_results['sections'][0]['hits']) == 0:\n",
    "        has_next_page = False\n",
    "        print(\"DONE\")\n",
    "    else:\n",
    "        current_page += 1\n",
    "\n",
    "## TODO: compare artist names w/ search term and present user w/ ranking based on similarity\n",
    "\n",
    "# Artist: Young Thug ID: 20503\n",
    "# Artist: Kanye West ID: 72"
   ]
  },
  {
   "cell_type": "markdown",
   "metadata": {},
   "source": [
    "## Searching Album"
   ]
  },
  {
   "cell_type": "code",
   "execution_count": null,
   "metadata": {},
   "outputs": [],
   "source": [
    "album = 'Barter 6'\n",
    "album_results = genius.search_albums(album)\n",
    "has_next_page = True\n",
    "current_page = 1\n",
    "while has_next_page:\n",
    "    print(f\"Page {current_page}\")\n",
    "    for album in album_results['sections'][0]['hits']:\n",
    "        print(f\"Album: {album['result']['name']}({album['result']['id']})\\t\\tArtist: {album['result']['artist']['name']}({album['result']['artist']['id']})\")\n",
    "\n",
    "    album_results = genius.search_albums(album, page=current_page + 1)\n",
    "    if len(album_results['sections'][0]['hits']) == 0:\n",
    "        has_next_page = False\n",
    "        print(\"DONE\")\n",
    "    else:\n",
    "        current_page += 1"
   ]
  },
  {
   "cell_type": "markdown",
   "metadata": {},
   "source": [
    "## Download Album Lyrics"
   ]
  },
  {
   "cell_type": "code",
   "execution_count": null,
   "metadata": {},
   "outputs": [],
   "source": [
    "import json\n",
    "\n",
    "# download json\n",
    "album_id = 122065 # Album: Barter 6(122065)\t\tArtist: Young Thug(20503)\n",
    "album = genius.search_album(album_id=album_id)\n",
    "album.save_lyrics(filename=f\"{album_id}\", extension='json')\n",
    "\n",
    "# parse json\n",
    "file_path = f'{album_id}.json'\n",
    "with open(file_path, 'r') as file:\n",
    "            data = json.load(file)\n",
    "\n",
    "## There is no upside to writing to individual files\n",
    "# We can now parse \n",
    "for track in data['tracks']:\n",
    "    print(track['number'])\n",
    "    print(track['song']['full_title'])\n",
    "    print(track['song']['lyrics'])\n",
    "\n",
    "\n",
    "# HELPER\n",
    "from dataclasses import dataclass\n",
    "\n",
    "@dataclass\n",
    "class TrackDetails:\n",
    "    artist: str \n",
    "    album: str \n",
    "    number: int\n",
    "    full_title: str\n",
    "    lyrics: str\n",
    "    \n"
   ]
  },
  {
   "cell_type": "code",
   "execution_count": null,
   "metadata": {},
   "outputs": [],
   "source": [
    "# write tracks to text files\n",
    "\n",
    "for track in data['tracks']:\n",
    "    print(track['number'])\n",
    "    print(track['song']['full_title'])\n",
    "    file_name = f\"{track['number']} - {track['song']['full_title']}.txt\"\n",
    "    with open(file_name, 'w') as file:\n",
    "        file.write(track['song']['lyrics'])\n",
    "    break"
   ]
  }
 ],
 "metadata": {
  "kernelspec": {
   "display_name": ".venv",
   "language": "python",
   "name": "python3"
  },
  "language_info": {
   "codemirror_mode": {
    "name": "ipython",
    "version": 3
   },
   "file_extension": ".py",
   "mimetype": "text/x-python",
   "name": "python",
   "nbconvert_exporter": "python",
   "pygments_lexer": "ipython3",
   "version": "3.12.4"
  }
 },
 "nbformat": 4,
 "nbformat_minor": 2
}
