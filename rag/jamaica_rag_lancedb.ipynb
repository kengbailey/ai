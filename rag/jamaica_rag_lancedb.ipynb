{
 "cells": [
  {
   "cell_type": "code",
   "execution_count": null,
   "metadata": {},
   "outputs": [],
   "source": [
    "!pip install transformers scikit-learn docx2txt datasets nltk lancedb "
   ]
  },
  {
   "cell_type": "code",
   "execution_count": null,
   "metadata": {},
   "outputs": [],
   "source": [
    "!pip install openai==0.28"
   ]
  },
  {
   "cell_type": "code",
   "execution_count": null,
   "metadata": {
    "scrolled": true
   },
   "outputs": [],
   "source": [
    "!pip install wikipedia"
   ]
  },
  {
   "cell_type": "code",
   "execution_count": null,
   "metadata": {},
   "outputs": [],
   "source": [
    "!pip install sentence_transformers tf-keras"
   ]
  },
  {
   "cell_type": "markdown",
   "metadata": {},
   "source": [
    "## RAG from scratch w/ LanceDB"
   ]
  },
  {
   "cell_type": "markdown",
   "metadata": {},
   "source": [
    "### Data Loading"
   ]
  },
  {
   "cell_type": "code",
   "execution_count": 4,
   "metadata": {},
   "outputs": [
    {
     "name": "stdout",
     "output_type": "stream",
     "text": [
      "Article successfully written to article.txt\n"
     ]
    }
   ],
   "source": [
    "import wikipedia\n",
    "\n",
    "def get_wiki_article(title):\n",
    "    try:\n",
    "        page = wikipedia.page(title)\n",
    "        with open('jamaica.txt', 'w') as f:\n",
    "            f.write(page.content)\n",
    "        print(\"Article successfully written article to text\")\n",
    "    except Exception as e:\n",
    "        print(f\"An error occurred: {e}\")\n",
    "\n",
    "get_wiki_article('Jamaica')"
   ]
  },
  {
   "cell_type": "code",
   "execution_count": 4,
   "metadata": {},
   "outputs": [],
   "source": [
    "with open('jamaica.txt', 'r') as file:\n",
    "    text_data = file.read()"
   ]
  },
  {
   "cell_type": "markdown",
   "metadata": {},
   "source": [
    "### Chunking"
   ]
  },
  {
   "cell_type": "code",
   "execution_count": 5,
   "metadata": {},
   "outputs": [
    {
     "name": "stderr",
     "output_type": "stream",
     "text": [
      "[nltk_data] Downloading package punkt to /home/jovyan/nltk_data...\n",
      "[nltk_data]   Package punkt is already up-to-date!\n"
     ]
    }
   ],
   "source": [
    "# Recursive Text Splitter\n",
    "\n",
    "import nltk\n",
    "\n",
    "nltk.download(\"punkt\")\n",
    "from nltk.tokenize import sent_tokenize\n",
    "import re\n",
    "\n",
    "\n",
    "def recursive_text_splitter(text, max_chunk_length=1000, overlap=100):\n",
    "    \"\"\"\n",
    "    Helper function for chunking text recursively\n",
    "    \"\"\"\n",
    "    # Initialize result\n",
    "    result = []\n",
    "\n",
    "    current_chunk_count = 0\n",
    "    separator = [\"\\n\", \" \"]\n",
    "    _splits = re.split(f\"({separator})\", text)\n",
    "    splits = [_splits[i] + _splits[i + 1] for i in range(1, len(_splits), 2)]\n",
    "\n",
    "    for i in range(len(splits)):\n",
    "        if current_chunk_count != 0:\n",
    "            chunk = \"\".join(\n",
    "                splits[\n",
    "                    current_chunk_count\n",
    "                    - overlap : current_chunk_count\n",
    "                    + max_chunk_length\n",
    "                ]\n",
    "            )\n",
    "        else:\n",
    "            chunk = \"\".join(splits[0:max_chunk_length])\n",
    "\n",
    "        if len(chunk) > 0:\n",
    "            result.append(\"\".join(chunk))\n",
    "        current_chunk_count += max_chunk_length\n",
    "\n",
    "    return result"
   ]
  },
  {
   "cell_type": "code",
   "execution_count": 6,
   "metadata": {},
   "outputs": [
    {
     "name": "stdout",
     "output_type": "stream",
     "text": [
      "Number of Chunks:  141\n"
     ]
    }
   ],
   "source": [
    "#split text\n",
    "\n",
    "chunks = recursive_text_splitter(text_data, max_chunk_length=100, overlap=10)\n",
    "print(\"Number of Chunks: \", len(chunks))"
   ]
  },
  {
   "cell_type": "markdown",
   "metadata": {},
   "source": [
    "### Embedding"
   ]
  },
  {
   "cell_type": "code",
   "execution_count": 4,
   "metadata": {},
   "outputs": [],
   "source": [
    "from transformers import AutoTokenizer, AutoModel\n",
    "import torch\n",
    "\n",
    "# Choose a pre-trained model (e.g., BERT, RoBERTa, etc.)\n",
    "# Load the tokenizer and model\n",
    "model_name = \"bert-base-uncased\"\n",
    "tokenizer = AutoTokenizer.from_pretrained(model_name)\n",
    "model = AutoModel.from_pretrained(model_name)\n",
    "\n",
    "\n",
    "def embedder(chunk):\n",
    "    \"\"\"\n",
    "    Helper function to embed chunk of text\n",
    "    \"\"\"\n",
    "    # Tokenize the input text\n",
    "    tokens = tokenizer(chunk, return_tensors=\"pt\", padding=True, truncation=True)\n",
    "\n",
    "    # Get the model's output (including embeddings)\n",
    "    with torch.no_grad():\n",
    "        model_output = model(**tokens)\n",
    "\n",
    "    # Extract the embeddings\n",
    "    embeddings = model_output.last_hidden_state[:, 0, :]\n",
    "    embed = embeddings[0].numpy()\n",
    "    return embed\n"
   ]
  },
  {
   "cell_type": "code",
   "execution_count": 5,
   "metadata": {},
   "outputs": [],
   "source": [
    "# Embed all the chunks of text\n",
    "embeds = []\n",
    "for chunk in chunks:\n",
    "    embed = embedder(chunks)\n",
    "    embeds.append(embed)"
   ]
  },
  {
   "cell_type": "code",
   "execution_count": 16,
   "metadata": {},
   "outputs": [],
   "source": [
    "############ GPU Accelerated Embedding\n",
    "\n",
    "from sentence_transformers import SentenceTransformer\n",
    "\n",
    "def embedder(chunks):    \n",
    "    model = SentenceTransformer('sentence-transformers/all-MiniLM-L6-v2')\n",
    "    return model.encode(chunks)\n",
    "\n",
    "embeds = embedder(chunks)\n"
   ]
  },
  {
   "cell_type": "markdown",
   "metadata": {},
   "source": [
    "### Vector Store"
   ]
  },
  {
   "cell_type": "code",
   "execution_count": 17,
   "metadata": {},
   "outputs": [],
   "source": [
    "# Insert text chunks with their embeddings\n",
    "\n",
    "import lancedb\n",
    "\n",
    "\n",
    "def prepare_data(chunks, embeddings):\n",
    "    \"\"\"\n",
    "    Helper function to prepare data to insert in LanceDB\n",
    "    \"\"\"\n",
    "    data = []\n",
    "    for chunk, embed in zip(chunks, embeddings):\n",
    "        temp = {}\n",
    "        temp[\"text\"] = chunk\n",
    "        temp[\"vector\"] = embed\n",
    "        data.append(temp)\n",
    "    return data\n",
    "\n",
    "\n",
    "def lanceDBConnection(chunks, embeddings):\n",
    "    \"\"\"\n",
    "    LanceDB insertion\n",
    "    \"\"\"\n",
    "    db = lancedb.connect(\"lance.db\")\n",
    "    data = prepare_data(chunks, embeddings)\n",
    "    table = db.create_table(\n",
    "        \"scratch\",\n",
    "        data=data,\n",
    "        mode=\"overwrite\",\n",
    "    )\n",
    "    return table\n",
    "\n",
    "\n",
    "table = lanceDBConnection(chunks, embeds)"
   ]
  },
  {
   "cell_type": "markdown",
   "metadata": {},
   "source": [
    "### Retrieval & Prompt Preparation"
   ]
  },
  {
   "cell_type": "code",
   "execution_count": 32,
   "metadata": {},
   "outputs": [],
   "source": [
    "# Retriever\n",
    "k = 5\n",
    "question = \"Who were the first outsiders to visit jamaica?\"\n",
    "\n",
    "# Embed Question\n",
    "query_embedding = embedder(question)\n",
    "# Semantic Search\n",
    "result = table.search(query_embedding).limit(5).to_list()"
   ]
  },
  {
   "cell_type": "code",
   "execution_count": 33,
   "metadata": {},
   "outputs": [
    {
     "data": {
      "text/plain": [
       "['\\nThe first wave of English immigrants arrived to the island 1655 after conquering the Spanish, and they have historically been the dominant group. Prominent descendants from this group include former American Governor of New York David Paterson, Sandals Hotels owner Gordon Butch Stewart, United States Presidential Advisor and \"mother\" of the Pell Grant Lois Rice, and former United States National Security Advisor and Ambassador to the United Nations Susan Rice. The first Irish immigrants came to Jamaica in the 1600s as war prisoners and later, indentured labour. Their descendants include two of Jamaica\\'s National Heroes: Prime Ministers Michael Manley and Alexander Bustamante. Along with',\n",
       " ' this group include Canadian billionaire investor Michael Lee-Chin, supermodels Naomi Campbell and Tyson Beckford, reggae producer Leslie Kong, and VP Records founder Vincent \"Randy\" Chin.\\nThere are about 20,000 Jamaicans who have Lebanese and Syrian ancestry. Most were Christian immigrants who fled the Ottoman occupation of Lebanon in the early 19th century. Eventually their descendants became very successful politicians and businessmen. Notable Jamaicans from this group include former Jamaican Prime Minister Edward Seaga, Jamaican politician and former Miss World Lisa Hanna, Jamaican politicians Edward Zacca and Shahine Robinson, and hotelier Abraham Elias Issa.\\nThe first wave of English immigrants arrived to the island',\n",
       " ' the most populated, especially around the area now known as Old Harbour.\\nThough often thought to have become extinct following contact with Europeans, the Taíno in fact still inhabited Jamaica when the English took control of the island in 1655. Some fled into interior regions, merging with African Maroon communities. The Jamaican National Heritage Trust is attempting to locate and document any remaining evidence of the Taíno.\\n\\n\\n=== Spanish rule (1509–1655) ===\\n\\nChristopher Columbus was the first European to see Jamaica, claiming the island for Spain after landing there in 1494 on his second voyage to the Americas. His probable landing point was',\n",
       " \" on the island. They lived as conversos and were often persecuted by the Spanish rulers, and some turned to piracy against the Spanish Empire's shipping.\\nBy the early 17th century it is estimated that no more than 2,500–3,000 people lived on Jamaica.\\n\\n\\n=== Early British period ===\\n\\nThe English began taking an interest in the island and, following a failed attempt to conquer Santo Domingo on Hispaniola, Admiral William Penn and General Robert Venables led an invasion of Jamaica in 1655. Battles at Ocho Rios in 1657 and the Rio Nuevo in 1658 resulted in Spanish defeats; in 1660 the Maroon\",\n",
       " ' Patois), or briefly \"Ja\", have derived from this.\\n\\n\\n== History ==\\n\\n\\n=== Prehistory ===\\n\\nThere is no archaeological evidence of any human presence on Jamaica until about 500. A group known as the \"Redware people\" after their pottery arrived circa 600, followed by the Taíno circa 800, who most likely came from South America. They practised an agrarian and fishing economy, and at their height are thought to have numbered some 60,000 people, grouped into around 200 villages headed by caciques (chiefs). The south coast of Jamaica was the most populated, especially around the area now known']"
      ]
     },
     "execution_count": 33,
     "metadata": {},
     "output_type": "execute_result"
    }
   ],
   "source": [
    "context = [r[\"text\"] for r in result]\n",
    "context"
   ]
  },
  {
   "cell_type": "code",
   "execution_count": 20,
   "metadata": {},
   "outputs": [],
   "source": [
    "# Context Prompt\n",
    "\n",
    "base_prompt = \"\"\"You are an AI assistant. Your task is to understand the user question, and provide an answer using the provided contexts. Every answer you generate should have citations in this pattern  \"Answer [position].\", for example: \"Earth is round [1][2].,\" if it's relevant.\n",
    "\n",
    "Your answers are correct, high-quality, and written by an domain expert. If the provided context does not contain the answer, simply state, \"The provided context does not have the answer.\"\n",
    "\n",
    "User question: {}\n",
    "\n",
    "Contexts:\n",
    "{}\n",
    "\"\"\"\n",
    "     "
   ]
  },
  {
   "cell_type": "markdown",
   "metadata": {},
   "source": [
    "### Answer Generation"
   ]
  },
  {
   "cell_type": "code",
   "execution_count": 34,
   "metadata": {},
   "outputs": [
    {
     "name": "stdout",
     "output_type": "stream",
     "text": [
      "Christopher Columbus was the first European to see Jamaica, claiming the island for Spain after landing there in 1494 on his second voyage to the Americas [3].\n"
     ]
    }
   ],
   "source": [
    "import openai\n",
    "\n",
    "# llm\n",
    "prompt = f\"{base_prompt.format(question, context)}\"\n",
    "response = openai.ChatCompletion.create(\n",
    "    model=\"gpt-4-turbo-2024-04-09\",\n",
    "    temperature=0,\n",
    "    messages=[\n",
    "        {\"role\": \"system\", \"content\": prompt},\n",
    "    ],\n",
    "    api_key=\"sk-\"\n",
    ")\n",
    "\n",
    "print(response.choices[0].message.content)"
   ]
  }
 ],
 "metadata": {
  "kernelspec": {
   "display_name": "Python 3 (ipykernel)",
   "language": "python",
   "name": "python3"
  },
  "language_info": {
   "codemirror_mode": {
    "name": "ipython",
    "version": 3
   },
   "file_extension": ".py",
   "mimetype": "text/x-python",
   "name": "python",
   "nbconvert_exporter": "python",
   "pygments_lexer": "ipython3",
   "version": "3.11.8"
  }
 },
 "nbformat": 4,
 "nbformat_minor": 4
}
