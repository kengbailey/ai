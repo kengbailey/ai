{
 "cells": [
  {
   "cell_type": "code",
   "execution_count": 6,
   "id": "4e215776-b843-4d7c-81a0-d1f46f4e3871",
   "metadata": {
    "scrolled": true
   },
   "outputs": [
    {
     "name": "stdout",
     "output_type": "stream",
     "text": [
      "Looking in indexes: https://pypi.org/simple, https://pypi.ngc.nvidia.com\n",
      "Collecting ollama\n",
      "  Downloading ollama-0.2.1-py3-none-any.whl.metadata (4.2 kB)\n",
      "Requirement already satisfied: httpx<0.28.0,>=0.27.0 in /opt/conda/lib/python3.11/site-packages (from ollama) (0.27.0)\n",
      "Requirement already satisfied: anyio in /opt/conda/lib/python3.11/site-packages (from httpx<0.28.0,>=0.27.0->ollama) (4.3.0)\n",
      "Requirement already satisfied: certifi in /opt/conda/lib/python3.11/site-packages (from httpx<0.28.0,>=0.27.0->ollama) (2024.2.2)\n",
      "Requirement already satisfied: httpcore==1.* in /opt/conda/lib/python3.11/site-packages (from httpx<0.28.0,>=0.27.0->ollama) (1.0.5)\n",
      "Requirement already satisfied: idna in /opt/conda/lib/python3.11/site-packages (from httpx<0.28.0,>=0.27.0->ollama) (3.6)\n",
      "Requirement already satisfied: sniffio in /opt/conda/lib/python3.11/site-packages (from httpx<0.28.0,>=0.27.0->ollama) (1.3.1)\n",
      "Requirement already satisfied: h11<0.15,>=0.13 in /opt/conda/lib/python3.11/site-packages (from httpcore==1.*->httpx<0.28.0,>=0.27.0->ollama) (0.14.0)\n",
      "Downloading ollama-0.2.1-py3-none-any.whl (9.7 kB)\n",
      "Installing collected packages: ollama\n",
      "Successfully installed ollama-0.2.1\n"
     ]
    }
   ],
   "source": [
    "!pip install ollama"
   ]
  },
  {
   "cell_type": "markdown",
   "id": "46d16eba-63d6-4ff5-910a-278fcb310b66",
   "metadata": {},
   "source": [
    "### Data Loading"
   ]
  },
  {
   "cell_type": "code",
   "execution_count": 3,
   "id": "7ebc10cc-78ed-40cb-8888-6feed1a688f9",
   "metadata": {},
   "outputs": [
    {
     "name": "stdout",
     "output_type": "stream",
     "text": [
      "Article successfully written article to text\n"
     ]
    }
   ],
   "source": [
    "import wikipedia\n",
    "\n",
    "def get_wiki_article(title):\n",
    "    try:\n",
    "        page = wikipedia.page(title)\n",
    "        with open('jamaica.txt', 'w') as f:\n",
    "            f.write(page.content)\n",
    "        print(\"Article successfully written article to text\")\n",
    "    except Exception as e:\n",
    "        print(f\"An error occurred: {e}\")\n",
    "\n",
    "get_wiki_article('Jamaica')\n",
    "\n",
    "with open('jamaica.txt', 'r') as file:\n",
    "    text_data = file.read()"
   ]
  },
  {
   "cell_type": "markdown",
   "id": "d9ad1dfa-0cb0-4936-807a-f1a67156971e",
   "metadata": {},
   "source": [
    "### Chunking"
   ]
  },
  {
   "cell_type": "code",
   "execution_count": 4,
   "id": "8755e14d-88be-457f-a419-9156c46da7e8",
   "metadata": {},
   "outputs": [
    {
     "name": "stderr",
     "output_type": "stream",
     "text": [
      "[nltk_data] Downloading package punkt to /home/jovyan/nltk_data...\n",
      "[nltk_data]   Package punkt is already up-to-date!\n"
     ]
    }
   ],
   "source": [
    "# Recursive Text Splitter\n",
    "\n",
    "import nltk\n",
    "\n",
    "nltk.download(\"punkt\")\n",
    "from nltk.tokenize import sent_tokenize\n",
    "import re\n",
    "\n",
    "\n",
    "def recursive_text_splitter(text, max_chunk_length=1000, overlap=100):\n",
    "    \"\"\"\n",
    "    Helper function for chunking text recursively\n",
    "    \"\"\"\n",
    "    # Initialize result\n",
    "    result = []\n",
    "\n",
    "    current_chunk_count = 0\n",
    "    separator = [\"\\n\", \" \"]\n",
    "    _splits = re.split(f\"({separator})\", text)\n",
    "    splits = [_splits[i] + _splits[i + 1] for i in range(1, len(_splits), 2)]\n",
    "\n",
    "    for i in range(len(splits)):\n",
    "        if current_chunk_count != 0:\n",
    "            chunk = \"\".join(\n",
    "                splits[\n",
    "                    current_chunk_count\n",
    "                    - overlap : current_chunk_count\n",
    "                    + max_chunk_length\n",
    "                ]\n",
    "            )\n",
    "        else:\n",
    "            chunk = \"\".join(splits[0:max_chunk_length])\n",
    "\n",
    "        if len(chunk) > 0:\n",
    "            result.append(\"\".join(chunk))\n",
    "        current_chunk_count += max_chunk_length\n",
    "\n",
    "    return result"
   ]
  },
  {
   "cell_type": "code",
   "execution_count": 5,
   "id": "0e31d654-e041-460d-a6d2-dbf85c0eaee0",
   "metadata": {},
   "outputs": [
    {
     "name": "stdout",
     "output_type": "stream",
     "text": [
      "Number of Chunks:  141\n"
     ]
    }
   ],
   "source": [
    "#split text\n",
    "\n",
    "chunks = recursive_text_splitter(text_data, max_chunk_length=100, overlap=10)\n",
    "print(\"Number of Chunks: \", len(chunks))"
   ]
  },
  {
   "cell_type": "markdown",
   "id": "7e9dba82-41f9-4158-bbdc-e149f380197d",
   "metadata": {},
   "source": [
    "### Embedding"
   ]
  },
  {
   "cell_type": "code",
   "execution_count": 48,
   "id": "f8c1b790-8050-4b71-af6a-cf056fc556ba",
   "metadata": {},
   "outputs": [],
   "source": [
    "# Ollama Embedding\n",
    "\n",
    "'''\n",
    "snowflake-arctic-embed:22m \t384dim\n",
    "snowflake-arctic-embed:33m \t384dim\n",
    "snowflake-arctic-embed:110m \t768dim\n",
    "snowflake-arctic-embed:137m \t768dim\n",
    "snowflake-arctic-embed:335m \t1024dim\n",
    "\n",
    "nomic-embed-text  (137m)\n",
    "\n",
    "mxbai-embed-large  (335m)\n",
    "\n",
    "all-minilm:22m\n",
    "all-minilm:33m\n",
    "'''\n",
    "\n",
    "from ollama import Client\n",
    "\n",
    "\n",
    "def ollama_embedder(text, model='all-minilm:22m'):\n",
    "    client = Client(host='http://192.168.8.116:11434')\n",
    "    response = client.embeddings(\n",
    "        prompt=text,\n",
    "        model=model\n",
    "    )\n",
    "    return response[\"embedding\"]"
   ]
  },
  {
   "cell_type": "code",
   "execution_count": 20,
   "id": "e5573a09-1259-4d71-8158-fdd985c8e18f",
   "metadata": {},
   "outputs": [],
   "source": [
    "# Ollama Embedding\n",
    "\n",
    "embeds = []\n",
    "for chunk in chunks:\n",
    "    embed = ollama_embedder(chunk)\n",
    "    embeds.append(embed)"
   ]
  },
  {
   "cell_type": "code",
   "execution_count": null,
   "id": "3a7f5a0b-065f-479d-b031-2a78110e8dde",
   "metadata": {},
   "outputs": [],
   "source": [
    "# GPU Accelerated Embedding\n",
    "\n",
    "from sentence_transformers import SentenceTransformer\n",
    "\n",
    "def embedder(chunks):    \n",
    "    model = SentenceTransformer('sentence-transformers/all-MiniLM-L6-v2')\n",
    "    return model.encode(chunks)\n",
    "\n",
    "embeds = embedder(chunks)"
   ]
  },
  {
   "cell_type": "markdown",
   "id": "0e47fc37-ec0e-4938-9a7a-dfd2d2cd266a",
   "metadata": {},
   "source": [
    "### Vector Store "
   ]
  },
  {
   "cell_type": "code",
   "execution_count": 21,
   "id": "676a05bb-7a41-4fd4-a826-bcd727a848bd",
   "metadata": {},
   "outputs": [
    {
     "name": "stderr",
     "output_type": "stream",
     "text": [
      "[2024-07-05T17:38:56Z WARN  lance::dataset] No existing dataset at /home/jovyan/ai/rag/jamaica/lance.db/jamaica_wiki.lance, it will be created\n"
     ]
    }
   ],
   "source": [
    "# Insert text chunks with their embeddings\n",
    "\n",
    "import lancedb\n",
    "\n",
    "def prepare_data(chunks, embeddings):\n",
    "    \"\"\"\n",
    "    Helper function to prepare data to insert in LanceDB\n",
    "    \"\"\"\n",
    "    data = []\n",
    "    for chunk, embed in zip(chunks, embeddings):\n",
    "        temp = {}\n",
    "        temp[\"text\"] = chunk\n",
    "        temp[\"vector\"] = embed\n",
    "        data.append(temp)\n",
    "    return data\n",
    "\n",
    "\n",
    "def lanceDBConnection(chunks, embeddings):\n",
    "    \"\"\"\n",
    "    LanceDB insertion\n",
    "    \"\"\"\n",
    "    db = lancedb.connect(\"lance.db\")\n",
    "    data = prepare_data(chunks, embeddings)\n",
    "    table = db.create_table(\n",
    "        \"jamaica_wiki\",\n",
    "        data=data,\n",
    "        mode=\"overwrite\",\n",
    "    )\n",
    "    return table\n",
    "\n",
    "\n",
    "table = lanceDBConnection(chunks, embeds)"
   ]
  },
  {
   "cell_type": "markdown",
   "id": "944be1a6-4d57-47f6-bd8a-1bbe20268b1f",
   "metadata": {},
   "source": [
    "### Prompt Prep"
   ]
  },
  {
   "cell_type": "code",
   "execution_count": 69,
   "id": "a8e3bf47-fe60-45b4-a305-5c832431be16",
   "metadata": {},
   "outputs": [],
   "source": [
    "# Query\n",
    "k = 5\n",
    "question = \"what salt water fish are found in jamaica\"\n",
    "\n",
    "# Embed Question\n",
    "query_embedding = ollama_embedder(question)\n",
    "\n",
    "# Semantic Search\n",
    "result = table.search(query_embedding).limit(5).to_list()\n",
    "\n",
    "# Intelligent rerank - TODO\n",
    "\n",
    "# Create context\n",
    "context = [r[\"text\"] for r in result]\n",
    "# context"
   ]
  },
  {
   "cell_type": "code",
   "execution_count": null,
   "id": "9f38d4a5-b342-422b-9287-cc097fe0b4fd",
   "metadata": {},
   "outputs": [],
   "source": [
    "# View Context\n",
    "for r in result:\n",
    "    print(f\"Text >> {r['text']}\")\n",
    "    print(f\"Distance >> {r['_distance']}\\n\\n\")"
   ]
  },
  {
   "cell_type": "code",
   "execution_count": 63,
   "id": "70d0cba3-2ce1-4b75-ac50-389228276f88",
   "metadata": {},
   "outputs": [],
   "source": [
    "# Context Prompt\n",
    "\n",
    "base_instruction = \"\"\"Your task is to understand the user question, and provide an answer using the provided contexts. Every answer you generate should have citations in this pattern  \"Answer [position].\", for example: \"Earth is round. [1][2],\" if it's relevant.\n",
    "\n",
    "Your answers are correct, high-quality, and written by an domain expert. If the provided context does not contain the answer, simply state, \"The provided context does not have the answer.\"\n",
    "\\n\\n\"\"\"\n",
    "question_text = \"User Question: {}\\n\\nContexts:\\n\"\n",
    "context_text = \"[{}]\\n{}\\n\\n\"\n",
    "\n",
    "def create_prompt(question, context):\n",
    "    prompt = ''\n",
    "    for i,text in enumerate(context):\n",
    "        prompt += f\"{context_text.format(i+1, text)}\"\n",
    "    prompt = base_instruction + f\"{question_text.format(question)}\" + prompt\n",
    "    return prompt"
   ]
  },
  {
   "cell_type": "markdown",
   "id": "9e927502-6215-4e86-b7e7-41aef06228a4",
   "metadata": {},
   "source": [
    "### LLM Query"
   ]
  },
  {
   "cell_type": "code",
   "execution_count": 79,
   "id": "fee4f643-fa49-4132-b5d9-d0d30891af60",
   "metadata": {},
   "outputs": [
    {
     "name": "stdout",
     "output_type": "stream",
     "text": [
      " Jamaican waters contain considerable resources of saltwater fish. The chief varieties of saltwater fish found in Jamaica include kingfish, jack, mackerel, whiting, bonito, and tuna. [1]\n"
     ]
    }
   ],
   "source": [
    "# local Ollama \n",
    "from openai import OpenAI\n",
    "\n",
    "\n",
    "prompt = create_prompt(question, context)\n",
    "\n",
    "client = OpenAI(\n",
    "    base_url='http://192.168.8.116:11434/v1/',\n",
    "    api_key='ollama',\n",
    ")\n",
    "\n",
    "# gemma2:9b-instruct-q5_K_M, llama3:8b-instruct-fp16, granite-code:20b-instruct-q8_0, \n",
    "# mistral:7b-instruct-v0.3-fp16, mixtral:latest, gemma2:27b-instruct-q5_K_M\n",
    "# codestral:latest\n",
    "chat_completion = client.chat.completions.create(\n",
    "    messages=[\n",
    "        {\"role\": \"system\", \"content\": \"You are a helpful assistant.\"},\n",
    "        {'role': 'user', 'content': prompt, }\n",
    "    ],\n",
    "    model='codestral:latest',\n",
    "    temperature=0,\n",
    ")\n",
    "print(chat_completion.choices[0].message.content)\n"
   ]
  },
  {
   "cell_type": "code",
   "execution_count": 80,
   "id": "dc1f9706-21db-4b10-9168-331cd4c02813",
   "metadata": {},
   "outputs": [
    {
     "name": "stdout",
     "output_type": "stream",
     "text": [
      "The chief varieties of saltwater fish found in Jamaica include kingfish, jack, mackerel, whiting, bonito, and tuna. Additionally, fish that occasionally enter freshwater and estuarine environments in Jamaica are snook, jewfish, mangrove snapper, and mullets. [1]\n"
     ]
    }
   ],
   "source": [
    "from openai import OpenAI\n",
    "\n",
    "# llm\n",
    "prompt = create_prompt(question, context)\n",
    "\n",
    "client = OpenAI(api_key=\"sk-\")\n",
    "response = client.chat.completions.create(\n",
    "    messages=[\n",
    "        {\"role\": \"system\", \"content\": \"You are a helpful assistant.\"},\n",
    "        {'role': 'user', 'content': prompt, }\n",
    "    ],\n",
    "    model='gpt-4-turbo-2024-04-09',\n",
    "    temperature=0,\n",
    ")\n",
    "\n",
    "print(response.choices[0].message.content)"
   ]
  },
  {
   "cell_type": "code",
   "execution_count": 75,
   "id": "8cd12199-e667-40df-b229-6d65478604bc",
   "metadata": {},
   "outputs": [
    {
     "name": "stdout",
     "output_type": "stream",
     "text": [
      "Your task is to understand the user question, and provide an answer using the provided contexts. Every answer you generate should have citations in this pattern  \"Answer [position].\", for example: \"Earth is round. [1][2],\" if it's relevant.\n",
      "\n",
      "Your answers are correct, high-quality, and written by an domain expert. If the provided context does not contain the answer, simply state, \"The provided context does not have the answer.\"\n",
      "\n",
      "\n",
      "User Question: what salt water fish are found in jamaica\n",
      "\n",
      "Contexts:\n",
      "[1]\n",
      " on Jamaica and on a few islands in the Bahamas. In addition, many types of frogs are common on the island, especially treefrogs.\n",
      "Jamaican waters contain considerable resources of fresh and saltwater fish. The chief varieties of saltwater fish are kingfish, jack, mackerel, whiting, bonito, and tuna. Fish that occasionally enter freshwater and estuarine environments include snook, jewfish, mangrove snapper, and mullets. Fish that spend the majority of their lives in Jamaica's fresh waters include many species of livebearers, killifish, freshwater gobies, the mountain mullet, and the American eel. Tilapia have been introduced from Africa\n",
      "\n",
      "[2]\n",
      " including the endangered black-Billed parrots and the Jamaican blackbird, both of which are only found in Cockpit Country. It is also the indigenous home to four species of hummingbirds (three of which are found nowhere else in the world): the black-billed streamertail, the Jamaican mango, the Vervain hummingbird, and red-billed streamertails. The red-billed streamertail, known locally as the \"doctor bird\", is Jamaica's National Symbol. Other notable species include the Jamaican tody and the Greater flamingo,\n",
      "One species of freshwater turtle is native to Jamaica, the Jamaican slider. It is found only on Jamaica and on a few islands in the Bahamas.\n",
      "\n",
      "[3]\n",
      " wild boar and the small Asian mongoose are also common. Jamaica is also home to about 50 species of reptiles, the largest of which is the American crocodile; however, it is only present within the Black River and a few other areas. Lizards such as anoles, iguanas and snakes such as racers and the Jamaican boa (the largest snake on the island), are common in areas such as the Cockpit Country. None of Jamaica's eight species of native snakes is venomous.\n",
      "Jamaica is home to about 289 species of birds of which 27 are endemic including the endangered black-Billed parrots and the Jamaican blackbird,\n",
      "\n",
      "[4]\n",
      " and the American eel. Tilapia have been introduced from Africa for aquaculture, and are very common. Also visible in the waters surrounding Jamaica are dolphins, parrotfish, and the endangered manatee.\n",
      "Insects and other invertebrates are abundant, including the world's largest centipede, the Amazonian giant centipede. Jamaica is the home to about 150 species of butterflies and moths, including 35 indigenous species and 22 subspecies. It is also the native home to the Jamaican swallowtail, the western hemisphere's largest butterfly.\n",
      "\n",
      "\n",
      "=== Aquatic life ===\n",
      "Coral reef ecosystems are important because they provide people with a source of livelihood, food\n",
      "\n",
      "[5]\n",
      " 2019 Forest Landscape Integrity Index mean score of 5.01/10, ranking it 110th globally out of 172 countries.\n",
      "Jamaica's fauna, typical of the Caribbean, includes highly diversified wildlife with many endemic species. As with other oceanic islands, land mammals are mostly several species of bats of which at least three endemic species are found only in Cockpit Country, one of which is at-risk. Other species of bat include the fig-eating and hairy-tailed bats. The only non-bat native mammal extant in Jamaica is the Jamaican hutia, locally known as the coney. Introduced mammals such as wild boar and the small Asian mongoose are also common.\n",
      "\n",
      "\n"
     ]
    }
   ],
   "source": [
    "print(prompt)"
   ]
  }
 ],
 "metadata": {
  "kernelspec": {
   "display_name": "Python 3 (ipykernel)",
   "language": "python",
   "name": "python3"
  },
  "language_info": {
   "codemirror_mode": {
    "name": "ipython",
    "version": 3
   },
   "file_extension": ".py",
   "mimetype": "text/x-python",
   "name": "python",
   "nbconvert_exporter": "python",
   "pygments_lexer": "ipython3",
   "version": "3.11.8"
  }
 },
 "nbformat": 4,
 "nbformat_minor": 5
}
